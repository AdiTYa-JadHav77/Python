{
 "cells": [
  {
   "cell_type": "code",
   "execution_count": null,
   "id": "ed86210e",
   "metadata": {},
   "outputs": [],
   "source": [
    "1. In the below elements which of them are values or an expression? eg:- values can be\n",
    "integer or string and expressions will be mathematical operators.\n",
    "*\n",
    "'hello'\n",
    "-87.8\n",
    "-\n",
    "/\n",
    "+\n",
    "6\n",
    "\n",
    "===>\n",
    "*\n",
    "'hello'\n",
    "-87.8\n",
    "-\n",
    "/\n",
    "+\n",
    "6"
   ]
  },
  {
   "cell_type": "code",
   "execution_count": null,
   "id": "b42e587f",
   "metadata": {},
   "outputs": [],
   "source": [
    "2. What is the difference between string and variable?\n",
    "===>string is a data type and variable is used to store the data type."
   ]
  },
  {
   "cell_type": "code",
   "execution_count": null,
   "id": "5524e2c0",
   "metadata": {},
   "outputs": [],
   "source": [
    "3. Describe three different data types.\n",
    "===>1.String - it is represented by str class. A string is a collection of one or more characters put in a single quote, \n",
    "double-quote or triple quote.there is no character data type, a character is a string of length one \n",
    "2.Integer- it is represented by int class. It contains positive or negative whole numbers (without fraction or decimal). \n",
    "there is no limit to how long an integer value can be.\n",
    "3.float - it represented by float class. It is a real number with floating point representation. \n",
    "It is specified by a decimal point. \n",
    "\n"
   ]
  },
  {
   "cell_type": "code",
   "execution_count": null,
   "id": "ff04670b",
   "metadata": {},
   "outputs": [],
   "source": [
    "4. What is an expression made up of? What do all expressions do?\n",
    "===>An expression is a combination of values, variables, operators.Expressions need to be evaluated. If you ask Python to print\n",
    "an expression, the interpreter evaluates the expression and displays the result."
   ]
  },
  {
   "cell_type": "code",
   "execution_count": null,
   "id": "d49fb8da",
   "metadata": {},
   "outputs": [],
   "source": [
    "5. This assignment statements, like spam = 10. What is the difference between an expression and a statement?\n",
    "===>Expression is made up of values, containers, and mathematical operators and the statement is just like a command that a \n",
    "python interpreter executes like print"
   ]
  },
  {
   "cell_type": "code",
   "execution_count": null,
   "id": "7c7dbbdd",
   "metadata": {},
   "outputs": [],
   "source": [
    "6. After running the following code, what does the variable bacon contain?\n",
    "bacon = 22\n",
    "bacon + 1\n",
    "\n",
    "===>23\n"
   ]
  },
  {
   "cell_type": "code",
   "execution_count": null,
   "id": "f9a182e6",
   "metadata": {},
   "outputs": [],
   "source": [
    "7. What should the values of the following two terms be?\n",
    "'spam' + 'spamspam'\n",
    "'spam' * 3\n",
    "===>1.'spamspamspam'\n",
    "2.'spamspamspam'"
   ]
  },
  {
   "cell_type": "code",
   "execution_count": null,
   "id": "eecc9d37",
   "metadata": {},
   "outputs": [],
   "source": [
    " 8. Why is eggs a valid variable name while 100 is invalid?\n",
    " ===>A variable name must start with a letter or the underscore character.\n",
    "A variable name cannot start with a number.\n",
    "A variable name can only contain alpha-numeric characters and underscores (A-z, 0-9, and _ )\n",
    "Variable names are case-sensitive (age, Age and AGE are three different variables)"
   ]
  },
  {
   "cell_type": "code",
   "execution_count": null,
   "id": "ae0f64f5",
   "metadata": {},
   "outputs": [],
   "source": [
    "9. What three functions can be used to get the integer, floating-point number, or string\n",
    "version of a value?\n",
    "===>The int() , float() , and str( ) functions will evaluate to the integer, floating-point number, and string versions of the\n",
    "value passed to them."
   ]
  },
  {
   "cell_type": "code",
   "execution_count": null,
   "id": "b2a85175",
   "metadata": {},
   "outputs": [],
   "source": [
    "10. Why does this expression cause an error? How can you fix it?\n",
    "'I have eaten ' + 99 + ' burritos.'\n",
    "===>we can fix this by converting an (99)integer to string\n",
    "i.e:'I have eaten ' + '99' + ' burritos.'\n"
   ]
  }
 ],
 "metadata": {
  "kernelspec": {
   "display_name": "Python 3 (ipykernel)",
   "language": "python",
   "name": "python3"
  },
  "language_info": {
   "codemirror_mode": {
    "name": "ipython",
    "version": 3
   },
   "file_extension": ".py",
   "mimetype": "text/x-python",
   "name": "python",
   "nbconvert_exporter": "python",
   "pygments_lexer": "ipython3",
   "version": "3.9.7"
  }
 },
 "nbformat": 4,
 "nbformat_minor": 5
}
