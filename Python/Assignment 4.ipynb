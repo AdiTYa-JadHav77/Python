{
 "cells": [
  {
   "cell_type": "code",
   "execution_count": null,
   "id": "bef216a9",
   "metadata": {},
   "outputs": [],
   "source": [
    "1. What exactly is []?\n",
    "=>Empty List / square braces  \n"
   ]
  },
  {
   "cell_type": "code",
   "execution_count": null,
   "id": "60f84be3",
   "metadata": {},
   "outputs": [],
   "source": [
    "\n",
    "2. In a list of values stored in a variable called spam, how would you assign the value 'hello' as the third value? \n",
    "(Assume [2, 4, 6, 8, 10] are in spam.)\n",
    "=> l[2] = 'hello\n",
    "\n",
    "    "
   ]
  },
  {
   "cell_type": "code",
   "execution_count": null,
   "id": "33584980",
   "metadata": {},
   "outputs": [],
   "source": [
    "Let's pretend the spam includes the list ['a', 'b', 'c', 'd'] for the next three queries.\n",
    "\n",
    "3. What is the value of spam[int(int('3' * 2) / 11)]?\n",
    "=> d"
   ]
  },
  {
   "cell_type": "code",
   "execution_count": null,
   "id": "ed7402c4",
   "metadata": {},
   "outputs": [],
   "source": [
    "\n",
    "4. What is the value of spam[-1]?\n",
    "=> d\n"
   ]
  },
  {
   "cell_type": "code",
   "execution_count": null,
   "id": "65f1673b",
   "metadata": {},
   "outputs": [],
   "source": [
    "\n",
    "5. What is the value of spam[:2]?\n",
    "=>['a', 'b']\n",
    "\n"
   ]
  },
  {
   "cell_type": "code",
   "execution_count": null,
   "id": "8ec0d005",
   "metadata": {},
   "outputs": [],
   "source": [
    "Let's pretend bacon has the list [3.14, 'cat,' 11, 'cat,' True] for the next three questions.\n",
    "\n",
    "6. What is the value of bacon.index('cat')?\n",
    "=>bacon.index('cat')\n"
   ]
  },
  {
   "cell_type": "code",
   "execution_count": null,
   "id": "913e076a",
   "metadata": {},
   "outputs": [],
   "source": [
    "\n",
    "7. How does bacon.append(99) change the look of the list value in bacon?\n",
    "=>[3.14, 'cat', 11, 'cat', True, 99]\n"
   ]
  },
  {
   "cell_type": "code",
   "execution_count": null,
   "id": "b0b246b5",
   "metadata": {},
   "outputs": [],
   "source": [
    "\n",
    "8. How does bacon.remove('cat') change the look of the list in bacon?\n",
    "=>[3.14, 11, 'cat', True, 99]\n",
    "\n"
   ]
  },
  {
   "cell_type": "code",
   "execution_count": null,
   "id": "ec80bc82",
   "metadata": {},
   "outputs": [],
   "source": [
    "9. What are the list concatenation and list replication operators?\n",
    "=>The operator for list concatenation is +, while the operator for replication is *\n"
   ]
  },
  {
   "cell_type": "code",
   "execution_count": null,
   "id": "9af9d4c9",
   "metadata": {},
   "outputs": [],
   "source": [
    "\n",
    "10. What is difference between the list methods append() and insert()?\n",
    "=> append method can be use for adding new element in the list only but \n",
    "by using insert we can add as well as can modify already occupied position.\n",
    "append method takes one argument (which you have to insert in the list) \n",
    "while insert method takes two elements (first will be the position of element and \n",
    "second will the element itself), Below are examples for both methods use:\n"
   ]
  },
  {
   "cell_type": "code",
   "execution_count": null,
   "id": "71f60746",
   "metadata": {},
   "outputs": [],
   "source": [
    "\n",
    "11. What are the two methods for removing items from a list?\n",
    "=>The methods are remove(), pop() . It helps to remove the very first given element matching from the list. \n",
    "The pop() method removes an element from the list based on the index given.\n"
   ]
  },
  {
   "cell_type": "code",
   "execution_count": null,
   "id": "2069d1e0",
   "metadata": {},
   "outputs": [],
   "source": [
    "\n",
    "12. Describe how list values and string values are identical.\n",
    "=>The values that make up a list are called its elements. Lists are similar to strings, \n",
    "which are ordered collections of characters, except that the elements of a list can have any type and for any one list, \n",
    "the items can be of different types.\n"
   ]
  },
  {
   "cell_type": "code",
   "execution_count": null,
   "id": "fe97be5c",
   "metadata": {},
   "outputs": [],
   "source": [
    "\n",
    "13. What's the difference between tuples and lists?\n",
    "=>Lists are mutable; they can have values added, removed, or changed. Tuples are immutable; \n",
    "they cannot be changed at all. Also, tuples are written using parentheses, ( ele ), while lists use the square brackets, \n",
    "[ ele ].\n",
    "\n"
   ]
  },
  {
   "cell_type": "code",
   "execution_count": null,
   "id": "78471af5",
   "metadata": {},
   "outputs": [],
   "source": [
    "\n",
    "14. How do you type a tuple value that only contains the integer 42?\n",
    "=>(42,)(The trailing comma is mandatory.) otherwise it will not be tuple\n"
   ]
  },
  {
   "cell_type": "code",
   "execution_count": null,
   "id": "b21fff0d",
   "metadata": {},
   "outputs": [],
   "source": [
    "\n",
    "15. How do you get a list value's tuple form? How do you get a tuple value's list form?\n",
    "=>The tuple() and list() functions\n"
   ]
  },
  {
   "cell_type": "code",
   "execution_count": null,
   "id": "1301f51b",
   "metadata": {},
   "outputs": [],
   "source": [
    "\n",
    "16. Variables that \"contain\" list values are not necessarily lists themselves. Instead, what do they contain?\n",
    "=>They contain references to list values.\n"
   ]
  },
  {
   "cell_type": "code",
   "execution_count": null,
   "id": "f97814d5",
   "metadata": {},
   "outputs": [],
   "source": [
    "\n",
    "17. How do you distinguish between copy.copy() and copy.deepcopy()?\n",
    "=>The copy.copy() function will do a shallow copy of a list, while the copy.deepcopy() function \n",
    "will do a deep copy of a list. That is, only copy.deepcopy() will duplicate any lists inside the list.\n",
    "\n",
    "\n"
   ]
  }
 ],
 "metadata": {
  "kernelspec": {
   "display_name": "Python 3 (ipykernel)",
   "language": "python",
   "name": "python3"
  },
  "language_info": {
   "codemirror_mode": {
    "name": "ipython",
    "version": 3
   },
   "file_extension": ".py",
   "mimetype": "text/x-python",
   "name": "python",
   "nbconvert_exporter": "python",
   "pygments_lexer": "ipython3",
   "version": "3.9.7"
  }
 },
 "nbformat": 4,
 "nbformat_minor": 5
}
