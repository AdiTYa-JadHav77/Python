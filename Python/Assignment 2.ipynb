{
 "cells": [
  {
   "cell_type": "code",
   "execution_count": null,
   "id": "7626fd28",
   "metadata": {},
   "outputs": [],
   "source": [
    "Assignment 2 "
   ]
  },
  {
   "cell_type": "code",
   "execution_count": null,
   "id": "b2aa0c7a",
   "metadata": {},
   "outputs": [],
   "source": [
    "1.What are the two values of the Boolean data type? How do you write them?\n",
    "=>There are 2 boolean values True and False we can write them by True,1 and false,0."
   ]
  },
  {
   "cell_type": "code",
   "execution_count": null,
   "id": "a7f0f6b4",
   "metadata": {},
   "outputs": [],
   "source": [
    "2. What are the three different types of Boolean operators?\n",
    "=>1.AND &\n",
    "2.OR |\n",
    "3.NOT !"
   ]
  },
  {
   "cell_type": "code",
   "execution_count": null,
   "id": "ebd801e2",
   "metadata": {},
   "outputs": [],
   "source": [
    "3. Make a list of each Boolean operator's truth tables (i.e. every possible combination of Boolean\n",
    "values for the operator and what it evaluate ).\n",
    "=>1. AND & \n",
    "A\tB\tQ\n",
    "0\t0\t0\n",
    "0\t1\t0\n",
    "1\t0\t0\n",
    "1\t1\t19\n",
    "\n",
    "2. OR |\n",
    "A\tB\tQ\n",
    "0\t0\t0\n",
    "0\t1\t1\n",
    "1\t0\t1\n",
    "1\t1\t1\n",
    "\n",
    "3. NOT !\n",
    "A\tQ\n",
    "0\t1\n",
    "1\t0"
   ]
  },
  {
   "cell_type": "code",
   "execution_count": null,
   "id": "4cdba3f6",
   "metadata": {},
   "outputs": [],
   "source": [
    "4. What are the values of the following expressions?\n",
    "\n",
    "(5 > 4) and (3 == 5)\n",
    "=>False\n",
    "\n",
    "not (5 > 4)\n",
    "=>False\n",
    "\n",
    "(5 > 4) or (3 == 5)\n",
    "=>False\n",
    "\n",
    "not ((5 > 4) or (3 == 5))\n",
    "=>false\n",
    "\n",
    "(True and True) and (True == False)\n",
    "=>False\n",
    "\n",
    "(not False) or (not True)\n",
    "=>True"
   ]
  },
  {
   "cell_type": "code",
   "execution_count": null,
   "id": "1f795b46",
   "metadata": {},
   "outputs": [],
   "source": [
    "5. What are the six comparison operators?\n",
    "=>Less than ( < )\n",
    "Less than or equal to (<=)\n",
    "Greater than (>)\n",
    "Greater than or equal to (>=)\n",
    "Equal to ( == )\n",
    "Not equal to ( != )"
   ]
  },
  {
   "cell_type": "code",
   "execution_count": null,
   "id": "e095fa65",
   "metadata": {},
   "outputs": [],
   "source": [
    "6. How do you tell the difference between the equal to and assignment operators?Describe a\n",
    "condition and when you would use one.\n",
    "=> The “=” is an assignment operator is used to assign the value on the right to the variable on the left. \n",
    "i.e: a=10\n",
    "The '==' operator checks whether the two given operands are equal or not. If so, it returns true. Otherwise it returns false\n",
    "i.e: if(a ==10):\n",
    "    print('hello')\n",
    "    "
   ]
  },
  {
   "cell_type": "code",
   "execution_count": null,
   "id": "2d6e60b6",
   "metadata": {},
   "outputs": [],
   "source": [
    "7. Identify the three blocks in this code:\n",
    "spam = 0\n",
    "if spam == 10:\n",
    "print('eggs')\n",
    "if spam > 5:\n",
    "print('bacon')\n",
    "else:\n",
    "print('ham')\n",
    "print('spam')\n",
    "print('spam')\n"
   ]
  },
  {
   "cell_type": "code",
   "execution_count": null,
   "id": "5d1d435b",
   "metadata": {},
   "outputs": [],
   "source": [
    "8. Write code that prints Hello if 1 is stored in spam, prints Howdy if 2 is stored in spam, and prints\n",
    "Greetings! if anything else is stored in spam.\n",
    "\n",
    "=>\n",
    "spam = int(input())\n",
    "if(spam == 1):\n",
    "    print(\"Hello\")\n",
    "elif(spam == 2):\n",
    "    print(\"Howdy\")\n",
    "else:\n",
    "    print(\"Greetings!\")"
   ]
  },
  {
   "cell_type": "code",
   "execution_count": null,
   "id": "881c5f08",
   "metadata": {},
   "outputs": [],
   "source": [
    "9.If your programme is stuck in an endless loop, what keys you’ll press?\n",
    "=> ctrl +c"
   ]
  },
  {
   "cell_type": "code",
   "execution_count": null,
   "id": "e0ba11fd",
   "metadata": {},
   "outputs": [],
   "source": [
    "10. How can you tell the difference between break and continue?\n",
    "=> break statement stops the loop in which the statement is placed, continue statement skips a single iteration in a loop. \n",
    "Both break and continue statements can be used in a for or a while loop."
   ]
  },
  {
   "cell_type": "code",
   "execution_count": null,
   "id": "cbdbc934",
   "metadata": {},
   "outputs": [],
   "source": [
    "11. In a for loop, what is the difference between range(10), range(0, 10), and range(0, 10, 1)?\n",
    "=>In range(10) it will start from 0 to given number\n",
    "In range(0,10) it will start from 0 to given number \n",
    "In range(0,10,1) it will start from 0 to given number and jump of 1\n"
   ]
  },
  {
   "cell_type": "code",
   "execution_count": null,
   "id": "23617e4a",
   "metadata": {},
   "outputs": [],
   "source": [
    "12. Write a short program that prints the numbers 1 to 10 using a for loop. Then write an equivalent\n",
    "program that prints the numbers 1 to 10 using a while loop.\n",
    "=>\n",
    "1. \n",
    "for i in range(1,11):\n",
    "    print(i)\n",
    "    \n",
    "2.\n",
    "i = 1\n",
    "while(i<=10):\n",
    "    print(i)\n",
    "    i += 1"
   ]
  },
  {
   "cell_type": "code",
   "execution_count": null,
   "id": "8be828c0",
   "metadata": {},
   "outputs": [],
   "source": [
    "13. If you had a function named bacon() inside a module named spam, how would you call it after\n",
    "importing spam?\n",
    "=> spam.bacon()"
   ]
  }
 ],
 "metadata": {
  "kernelspec": {
   "display_name": "Python 3 (ipykernel)",
   "language": "python",
   "name": "python3"
  },
  "language_info": {
   "codemirror_mode": {
    "name": "ipython",
    "version": 3
   },
   "file_extension": ".py",
   "mimetype": "text/x-python",
   "name": "python",
   "nbconvert_exporter": "python",
   "pygments_lexer": "ipython3",
   "version": "3.9.7"
  }
 },
 "nbformat": 4,
 "nbformat_minor": 5
}
