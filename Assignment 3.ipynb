{
 "cells": [
  {
   "cell_type": "code",
   "execution_count": null,
   "id": "3f558209",
   "metadata": {},
   "outputs": [],
   "source": [
    "1. Why are functions advantageous to have in your programs?\n",
    "=> if we have functions in are project then we can reuse that functions as we want and solve the problem in efficient way \n",
    "and save time by writing code again and again."
   ]
  },
  {
   "cell_type": "code",
   "execution_count": null,
   "id": "105a2104",
   "metadata": {},
   "outputs": [],
   "source": [
    "2. When does the code in a function run: when it's specified or when it's called?\n",
    "=> When we create a function then we can call the function using the function name and brackets i.e: def function_name(<arg>)"
   ]
  },
  {
   "cell_type": "code",
   "execution_count": null,
   "id": "5f01b01b",
   "metadata": {},
   "outputs": [],
   "source": [
    "3. What statement creates a function?\n",
    "=>The “def” keyword is a statement for defining a function in Python"
   ]
  },
  {
   "cell_type": "code",
   "execution_count": null,
   "id": "23c19bcf",
   "metadata": {},
   "outputs": [],
   "source": [
    "4. What is the difference between a function and a function call?\n",
    "=>A function is a piece of code which enhanced the reusability and modularity of your program. \n",
    "It means that piece of code need not be written again. A function call means invoking or calling that function. \n",
    "Unless a function is called there is no use of that function."
   ]
  },
  {
   "cell_type": "code",
   "execution_count": null,
   "id": "0d2a8fe6",
   "metadata": {},
   "outputs": [],
   "source": [
    "5. How many global scopes are there in a Python program? How many local scopes?\n",
    "=>There's only one global Python scope per program execution.\n",
    "This scope remains in existence until the program terminates and all its names are forgotten."
   ]
  },
  {
   "cell_type": "code",
   "execution_count": null,
   "id": "6293974a",
   "metadata": {},
   "outputs": [],
   "source": [
    "6. What happens to variables in a local scope when the function call returns?\n",
    "=>When the execution of the function terminates (returns), the local variables are destroyed. \n",
    "Codelens helps you visualize this because the local variables disappear after the function returns"
   ]
  },
  {
   "cell_type": "code",
   "execution_count": null,
   "id": "c166a4ef",
   "metadata": {},
   "outputs": [],
   "source": [
    "7. What is the concept of a return value? Is it possible to have a return value in an expression?\n",
    "=>A return statement is used to end the execution of the function call and “returns” \n",
    "the result (value of the expression following the return keyword) to the caller"
   ]
  },
  {
   "cell_type": "code",
   "execution_count": null,
   "id": "90912678",
   "metadata": {},
   "outputs": [],
   "source": [
    "8. If a function does not have a return statement, what is the return value of a call to that function?\n",
    "=> If no return statement appears in a function definition, control automatically returns \n",
    "to the calling function after the last statement of the called function is executed.\n",
    "In this case, the return value of the called function is undefined"
   ]
  },
  {
   "cell_type": "code",
   "execution_count": null,
   "id": "36b9e92c",
   "metadata": {},
   "outputs": [],
   "source": [
    "9. How do you make a function variable refer to the global variable?\n",
    "=>If you want to refer to a global variable in a function, \n",
    "you can use the global keyword to declare which variables are global\n",
    "i.e: global var_name"
   ]
  },
  {
   "cell_type": "code",
   "execution_count": null,
   "id": "b1c38d4a",
   "metadata": {},
   "outputs": [],
   "source": [
    "10. What is the data type of None?\n",
    "=> -Python uses the keyword None to define null objects and variables. While None does serve some of the same purposes \n",
    "as null in other languages, it's another beast entirely. As the null in Python, None is not defined to be 0 or any other value. "
   ]
  },
  {
   "cell_type": "code",
   "execution_count": null,
   "id": "9848d868",
   "metadata": {},
   "outputs": [],
   "source": [
    "11. What does the sentence import areallyourpetsnamederic do?\n",
    "=> That import statement imports a module named areallyourpetsnamederic."
   ]
  },
  {
   "cell_type": "code",
   "execution_count": null,
   "id": "0c5873ee",
   "metadata": {},
   "outputs": [],
   "source": [
    "12. If you had a bacon() feature in a spam module, what would you call it after importing spam?\n",
    "=> spam. bacon()"
   ]
  },
  {
   "cell_type": "code",
   "execution_count": null,
   "id": "0af9817d",
   "metadata": {},
   "outputs": [],
   "source": [
    "13. What can you do to save a programme from crashing if it encounters an error?\n",
    "=> we can use try and except clause to save programme from crashing and give a valide message of crashing."
   ]
  },
  {
   "cell_type": "code",
   "execution_count": null,
   "id": "a85066b6",
   "metadata": {},
   "outputs": [],
   "source": [
    "14. What is the purpose of the try clause? What is the purpose of the except clause?\n",
    "=> In Python, exceptions can be handled using a try statement. \n",
    "The critical operation which can raise an exception is placed inside the try clause.\n",
    "The code that handles the exceptions is written in the except clause.\n",
    "We can thus choose what operations to perform once we have caught the exception."
   ]
  }
 ],
 "metadata": {
  "kernelspec": {
   "display_name": "Python 3 (ipykernel)",
   "language": "python",
   "name": "python3"
  },
  "language_info": {
   "codemirror_mode": {
    "name": "ipython",
    "version": 3
   },
   "file_extension": ".py",
   "mimetype": "text/x-python",
   "name": "python",
   "nbconvert_exporter": "python",
   "pygments_lexer": "ipython3",
   "version": "3.9.7"
  }
 },
 "nbformat": 4,
 "nbformat_minor": 5
}
