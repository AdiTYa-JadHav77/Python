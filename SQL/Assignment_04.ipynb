{
 "cells": [
  {
   "attachments": {},
   "cell_type": "markdown",
   "metadata": {},
   "source": [
    "Q-1. Write an SQL query to print the FIRST_NAME from Worker table after replacing ‘a’ with ‘A’.\n",
    "\n",
    "\n",
    "Ans: SELECT REPLACE(FIRST_NAME,'a','A') FROM Wokrer;\n",
    "\n",
    "\n",
    "\n",
    "Q-2. Write an SQL query to print all Worker details from the Worker table order by FIRST_NAME Ascending and DEPARTMENT Descending.\n",
    "\n",
    "\n",
    "Ans: SELECT * FROM Worker ORDER BY FIRST_NAME ASC, LAST_NAME DESC;\n",
    "\n",
    "\n",
    "\n",
    "Q-3. Write an SQL query to fetch the names of workers who earn the highest salary.\n",
    "\n",
    "\n",
    "Ans: SELECT FIRST_NAME, LAST_NAME FROM Worker WHERE SALARY = (SELECT MAX(SALARY) FROM Worker);"
   ]
  }
 ],
 "metadata": {
  "kernelspec": {
   "display_name": "base",
   "language": "python",
   "name": "python3"
  },
  "language_info": {
   "name": "python",
   "version": "3.9.13 (main, Aug 25 2022, 23:51:50) [MSC v.1916 64 bit (AMD64)]"
  },
  "orig_nbformat": 4,
  "vscode": {
   "interpreter": {
    "hash": "5ae58900cfbb8c43ab3495913814b7cf26024f51651a94ce8bf64d6111688e8d"
   }
  }
 },
 "nbformat": 4,
 "nbformat_minor": 2
}
