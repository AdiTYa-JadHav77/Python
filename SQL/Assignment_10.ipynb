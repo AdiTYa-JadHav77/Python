{
 "cells": [
  {
   "attachments": {},
   "cell_type": "markdown",
   "metadata": {},
   "source": [
    "Q-19. Write an SQL query to determine the 5th highest salary without using TOP or limit method.\n",
    "\n",
    "\n",
    "Ans:\n",
    "\n",
    "```sql\n",
    "SELECT * FROM (SELECT ROW_NUMBER() OVER (ORDER BY salary DESC) AS R_NUM, first_name, salary FROM employee) as HEllO WHERE R_NUM=5;\n",
    "\n",
    "```\n",
    "\n",
    "Q-20. Write an SQL query to fetch the list of employees with the same salary.\n",
    "\n",
    "\n",
    "Ans:\n",
    "\n",
    "```sql\n",
    "CREATE TABLE employee (\n",
    "    emp_id INT PRIMARY KEY AUTO_INCREMENT NOT NULL,\n",
    "    first_name VARCHAR(50),\n",
    "    last_name VARCHAR(50),\n",
    "    salary INT\n",
    ");\n",
    "\n",
    "INSERT INTO employee VALUES\n",
    "(1,'Luke','Skywalker',100),\n",
    "(2,'Anakin','Skywalker',200),\n",
    "(3,'Liea','Skywalker',50),\n",
    "(4,'Rey','Skywalker',150),\n",
    "(5,'Han','Solo',100),\n",
    "(6,'Darth','Vader',150);\n",
    "\n",
    "SELECT * FROM employee ORDER BY salary ASC;\n",
    "```"
   ]
  },
  {
   "cell_type": "code",
   "execution_count": null,
   "metadata": {},
   "outputs": [],
   "source": []
  }
 ],
 "metadata": {
  "kernelspec": {
   "display_name": "base",
   "language": "python",
   "name": "python3"
  },
  "language_info": {
   "name": "python",
   "version": "3.9.13 (main, Aug 25 2022, 23:51:50) [MSC v.1916 64 bit (AMD64)]"
  },
  "orig_nbformat": 4,
  "vscode": {
   "interpreter": {
    "hash": "5ae58900cfbb8c43ab3495913814b7cf26024f51651a94ce8bf64d6111688e8d"
   }
  }
 },
 "nbformat": 4,
 "nbformat_minor": 2
}
