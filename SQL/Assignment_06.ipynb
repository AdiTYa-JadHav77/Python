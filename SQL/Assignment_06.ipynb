{
 "cells": [
  {
   "attachments": {},
   "cell_type": "markdown",
   "metadata": {},
   "source": [
    "Q-1. Write an SQL query to print details of the Workers who have joined in Feb’2014.\n",
    "\n",
    "\n",
    "```sql\n",
    "Approach 1\n",
    "SELECT * FROM Worker WHERE YEAR(JOINING_DATE) = 2014 AND MONTH(JOINING_DATE) = 02;\n",
    "\n",
    "\n",
    "Approach 2\n",
    "SELECT * FROM Worker WHERE JOINING_DATE LIKE \"%2014-02%\"\n",
    "```\n",
    "\n",
    "\n",
    "Q-2. Write an SQL query to fetch duplicate records having matching data in some fields of a table.\n",
    "\n",
    "\n",
    "Ans: SELECT column_name, COUNT(column_name) FROM Worker GROUP BY FEILD HAVING COUNT(column_name) > 1;\n",
    "\n",
    "\n",
    "\n",
    "Q-3. How to remove duplicate rows from Employees table.\n",
    "\n",
    "\n",
    "```sql\n",
    "CREATE TABLE Employee (\n",
    "    ID INT PRIMARY KEY AUTO_INCREMENT NOT NULL,\n",
    "    FIRST_NAME VARCHAR(50),\n",
    "    LAST_NAME VARCHAR(50),\n",
    "    COUNTRY VARCHAR(50)\n",
    ");\n",
    "INSERT INTO Employee VALUES \n",
    "(1,'ADITYA','VARMA','INDIA'),\n",
    "(2,'ADITYA','VARMA','INDIA'),\n",
    "(3,'ADITYA','VARMA','INDIA'),\n",
    "(4,'STEVE','JOBS','USA'),\n",
    "(5,'STEVE','JOBS','USA'),\n",
    "(6,'STEVE','JOBS','USA');\n",
    "\n",
    "DELETE e1.* from employee e1 INNER JOIN employee e2 WHERE e1.id > e2.id AND e1.FIRST_NAME = e2.FIRST_NAME AND e1.LAST_NAME = e2.LAST_NAME AND e1.COUNTRY = e2.COUNTRY;\n",
    "```"
   ]
  },
  {
   "cell_type": "code",
   "execution_count": null,
   "metadata": {},
   "outputs": [],
   "source": []
  }
 ],
 "metadata": {
  "kernelspec": {
   "display_name": "base",
   "language": "python",
   "name": "python3"
  },
  "language_info": {
   "name": "python",
   "version": "3.9.13 (main, Aug 25 2022, 23:51:50) [MSC v.1916 64 bit (AMD64)]"
  },
  "orig_nbformat": 4,
  "vscode": {
   "interpreter": {
    "hash": "5ae58900cfbb8c43ab3495913814b7cf26024f51651a94ce8bf64d6111688e8d"
   }
  }
 },
 "nbformat": 4,
 "nbformat_minor": 2
}
