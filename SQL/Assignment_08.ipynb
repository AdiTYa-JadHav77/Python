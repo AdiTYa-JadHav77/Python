{
 "cells": [
  {
   "attachments": {},
   "cell_type": "markdown",
   "metadata": {},
   "source": [
    "Q-15. Write an SQL query to fetch intersecting records of two tables.\n",
    "\n",
    "\n",
    "Ans: \n",
    "```sql\n",
    "SELECT <Column_names> FROM table_1 INTERSECT SELECT <Column_names> FROM table_2;\n",
    "\n",
    "```\n",
    "\n",
    "\n",
    "Q-16. Write an SQL query to show records from one table that another table does not have.\n",
    "\n",
    "\n",
    "Ans: \n",
    "```sql\n",
    "SELECT * FROM table_1 EXCEPT SELECT * FROM table_2;\n",
    "```"
   ]
  },
  {
   "cell_type": "code",
   "execution_count": null,
   "metadata": {},
   "outputs": [],
   "source": []
  }
 ],
 "metadata": {
  "kernelspec": {
   "display_name": "base",
   "language": "python",
   "name": "python3"
  },
  "language_info": {
   "name": "python",
   "version": "3.9.13 (main, Aug 25 2022, 23:51:50) [MSC v.1916 64 bit (AMD64)]"
  },
  "orig_nbformat": 4,
  "vscode": {
   "interpreter": {
    "hash": "5ae58900cfbb8c43ab3495913814b7cf26024f51651a94ce8bf64d6111688e8d"
   }
  }
 },
 "nbformat": 4,
 "nbformat_minor": 2
}
