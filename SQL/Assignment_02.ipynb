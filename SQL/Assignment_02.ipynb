{
 "cells": [
  {
   "attachments": {},
   "cell_type": "markdown",
   "metadata": {},
   "source": [
    "Q-1. Write an SQL query to print the first three characters of FIRST_NAME from Worker table.\n",
    "\n",
    "\n",
    "Ans: SELECT SUBSTRING(FIRST_NAME,1,3) FROM Worker;\n",
    "\n",
    "\n",
    "Q-2. Write an SQL query to find the position of the alphabet (‘a’) in the first name column ‘Amitabh’ from Worker table.\n",
    "\n",
    "\n",
    "Apporach 1\n",
    "\n",
    "\n",
    "SELECT LOCATE('a',FIRST_NAME) FROM Worker WHERE FIRST_NAME = 'Amitabh';\n",
    "\n",
    "Approach 2\n",
    "\n",
    "\n",
    "SELECT POSITION('a' IN FIRST_NAME) FROM Worker WHERE FIRST_NAME = 'Amitabh';\n",
    "\n",
    "\n",
    "Q-3. Write an SQL query to print the name of employees having the highest salary in each department.\n",
    "\n",
    "\n",
    "Ans: SELECT first_name, last_name, salary, department FROM Worker w WHERE salary = (SELECT MAX(salary) FROM Worker WHERE department = w.department)"
   ]
  }
 ],
 "metadata": {
  "kernelspec": {
   "display_name": "base",
   "language": "python",
   "name": "python3"
  },
  "language_info": {
   "name": "python",
   "version": "3.9.13 (main, Aug 25 2022, 23:51:50) [MSC v.1916 64 bit (AMD64)]"
  },
  "orig_nbformat": 4,
  "vscode": {
   "interpreter": {
    "hash": "5ae58900cfbb8c43ab3495913814b7cf26024f51651a94ce8bf64d6111688e8d"
   }
  }
 },
 "nbformat": 4,
 "nbformat_minor": 2
}
